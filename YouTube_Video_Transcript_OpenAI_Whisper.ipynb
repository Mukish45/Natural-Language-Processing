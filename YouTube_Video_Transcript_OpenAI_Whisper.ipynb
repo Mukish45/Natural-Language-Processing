{
  "nbformat": 4,
  "nbformat_minor": 0,
  "metadata": {
    "colab": {
      "provenance": [],
      "authorship_tag": "ABX9TyNvunPLFuL4MXWuaRlowohQ",
      "include_colab_link": true
    },
    "kernelspec": {
      "name": "python3",
      "display_name": "Python 3"
    },
    "language_info": {
      "name": "python"
    }
  },
  "cells": [
    {
      "cell_type": "markdown",
      "metadata": {
        "id": "view-in-github",
        "colab_type": "text"
      },
      "source": [
        "<a href=\"https://colab.research.google.com/github/Mukish45/Natural-Language-Processing/blob/main/YouTube_Video_Transcript_OpenAI_Whisper.ipynb\" target=\"_parent\"><img src=\"https://colab.research.google.com/assets/colab-badge.svg\" alt=\"Open In Colab\"/></a>"
      ]
    },
    {
      "cell_type": "code",
      "source": [
        "!pip install pytube"
      ],
      "metadata": {
        "colab": {
          "base_uri": "https://localhost:8080/"
        },
        "id": "Q1q7CJ9vApOR",
        "outputId": "d9d51687-0a78-4834-d7ea-d47aa0c7479c"
      },
      "execution_count": 4,
      "outputs": [
        {
          "output_type": "stream",
          "name": "stdout",
          "text": [
            "Looking in indexes: https://pypi.org/simple, https://us-python.pkg.dev/colab-wheels/public/simple/\n",
            "Collecting pytube\n",
            "  Downloading pytube-12.1.2-py3-none-any.whl (57 kB)\n",
            "\u001b[K     |████████████████████████████████| 57 kB 3.3 MB/s \n",
            "\u001b[?25hInstalling collected packages: pytube\n",
            "Successfully installed pytube-12.1.2\n"
          ]
        }
      ]
    },
    {
      "cell_type": "code",
      "source": [
        "from pytube import YouTube"
      ],
      "metadata": {
        "id": "_8SZqaCFApQe"
      },
      "execution_count": 5,
      "outputs": []
    },
    {
      "cell_type": "code",
      "source": [
        "link = \"https://www.youtube.com/watch?v=-sL80KzB5cQ&list=PLWPirh4EWFpHyWP7u5HOrr4s2-bycPpO6&index=30\""
      ],
      "metadata": {
        "id": "CWpVZnajApZZ"
      },
      "execution_count": 52,
      "outputs": []
    },
    {
      "cell_type": "code",
      "source": [
        "try:\n",
        "  yt = YouTube(link)\n",
        "except:\n",
        "  print('Error')"
      ],
      "metadata": {
        "id": "sFUGUTVPA4H9"
      },
      "execution_count": 53,
      "outputs": []
    },
    {
      "cell_type": "code",
      "source": [
        "yt.streams.filter(file_extension='mp4')"
      ],
      "metadata": {
        "colab": {
          "base_uri": "https://localhost:8080/"
        },
        "id": "5Q7ZBmxXBNi2",
        "outputId": "7895efc3-6553-41fa-9cc0-f630b09cfb7a"
      },
      "execution_count": 54,
      "outputs": [
        {
          "output_type": "execute_result",
          "data": {
            "text/plain": [
              "[<Stream: itag=\"18\" mime_type=\"video/mp4\" res=\"360p\" fps=\"30fps\" vcodec=\"avc1.42001E\" acodec=\"mp4a.40.2\" progressive=\"True\" type=\"video\">, <Stream: itag=\"22\" mime_type=\"video/mp4\" res=\"720p\" fps=\"30fps\" vcodec=\"avc1.64001F\" acodec=\"mp4a.40.2\" progressive=\"True\" type=\"video\">, <Stream: itag=\"136\" mime_type=\"video/mp4\" res=\"720p\" fps=\"30fps\" vcodec=\"avc1.4d401f\" progressive=\"False\" type=\"video\">, <Stream: itag=\"135\" mime_type=\"video/mp4\" res=\"480p\" fps=\"30fps\" vcodec=\"avc1.4d400b\" progressive=\"False\" type=\"video\">, <Stream: itag=\"134\" mime_type=\"video/mp4\" res=\"360p\" fps=\"30fps\" vcodec=\"avc1.4d401e\" progressive=\"False\" type=\"video\">, <Stream: itag=\"133\" mime_type=\"video/mp4\" res=\"240p\" fps=\"30fps\" vcodec=\"avc1.4d400c\" progressive=\"False\" type=\"video\">, <Stream: itag=\"160\" mime_type=\"video/mp4\" res=\"144p\" fps=\"30fps\" vcodec=\"avc1.4d400b\" progressive=\"False\" type=\"video\">, <Stream: itag=\"139\" mime_type=\"audio/mp4\" abr=\"48kbps\" acodec=\"mp4a.40.5\" progressive=\"False\" type=\"audio\">, <Stream: itag=\"140\" mime_type=\"audio/mp4\" abr=\"128kbps\" acodec=\"mp4a.40.2\" progressive=\"False\" type=\"audio\">]"
            ]
          },
          "metadata": {},
          "execution_count": 54
        }
      ]
    },
    {
      "cell_type": "code",
      "source": [
        "stream = yt.streams.get_by_itag(18)"
      ],
      "metadata": {
        "id": "jfjvG0rRBc9U"
      },
      "execution_count": 55,
      "outputs": []
    },
    {
      "cell_type": "code",
      "source": [
        "stream.download('','ms-word-styles-and-outline.mp4')"
      ],
      "metadata": {
        "colab": {
          "base_uri": "https://localhost:8080/",
          "height": 35
        },
        "id": "j_46TImiBc_m",
        "outputId": "69698d03-094c-4354-f319-4b9102915a0f"
      },
      "execution_count": 56,
      "outputs": [
        {
          "output_type": "execute_result",
          "data": {
            "text/plain": [
              "'/content/ms-word-styles-and-outline.mp4'"
            ],
            "application/vnd.google.colaboratory.intrinsic+json": {
              "type": "string"
            }
          },
          "metadata": {},
          "execution_count": 56
        }
      ]
    },
    {
      "cell_type": "code",
      "source": [
        "!pip install git+https://github.com/jianfch/stable-ts.git"
      ],
      "metadata": {
        "colab": {
          "base_uri": "https://localhost:8080/"
        },
        "id": "E-PwPoGx-bAs",
        "outputId": "a59842ee-fa69-40dd-ac42-05d9af84154e"
      },
      "execution_count": 1,
      "outputs": [
        {
          "output_type": "stream",
          "name": "stdout",
          "text": [
            "Looking in indexes: https://pypi.org/simple, https://us-python.pkg.dev/colab-wheels/public/simple/\n",
            "Collecting git+https://github.com/jianfch/stable-ts.git\n",
            "  Cloning https://github.com/jianfch/stable-ts.git to /tmp/pip-req-build-n79jf6bk\n",
            "  Running command git clone -q https://github.com/jianfch/stable-ts.git /tmp/pip-req-build-n79jf6bk\n",
            "Collecting whisper@ git+https://github.com/openai/whisper.git\n",
            "  Cloning https://github.com/openai/whisper.git to /tmp/pip-install-933gjorc/whisper_ea7eae9a4917415db371c7a2c56e2821\n",
            "  Running command git clone -q https://github.com/openai/whisper.git /tmp/pip-install-933gjorc/whisper_ea7eae9a4917415db371c7a2c56e2821\n",
            "Requirement already satisfied: numpy in /usr/local/lib/python3.8/dist-packages (from whisper@ git+https://github.com/openai/whisper.git->stable-ts==1.0.1) (1.21.6)\n",
            "Requirement already satisfied: torch in /usr/local/lib/python3.8/dist-packages (from whisper@ git+https://github.com/openai/whisper.git->stable-ts==1.0.1) (1.13.0+cu116)\n",
            "Requirement already satisfied: tqdm in /usr/local/lib/python3.8/dist-packages (from whisper@ git+https://github.com/openai/whisper.git->stable-ts==1.0.1) (4.64.1)\n",
            "Requirement already satisfied: more-itertools in /usr/local/lib/python3.8/dist-packages (from whisper@ git+https://github.com/openai/whisper.git->stable-ts==1.0.1) (9.0.0)\n",
            "Collecting transformers>=4.19.0\n",
            "  Downloading transformers-4.25.1-py3-none-any.whl (5.8 MB)\n",
            "\u001b[K     |████████████████████████████████| 5.8 MB 7.3 MB/s \n",
            "\u001b[?25hCollecting ffmpeg-python==0.2.0\n",
            "  Downloading ffmpeg_python-0.2.0-py3-none-any.whl (25 kB)\n",
            "Requirement already satisfied: future in /usr/local/lib/python3.8/dist-packages (from ffmpeg-python==0.2.0->whisper@ git+https://github.com/openai/whisper.git->stable-ts==1.0.1) (0.16.0)\n",
            "Requirement already satisfied: packaging>=20.0 in /usr/local/lib/python3.8/dist-packages (from transformers>=4.19.0->whisper@ git+https://github.com/openai/whisper.git->stable-ts==1.0.1) (21.3)\n",
            "Requirement already satisfied: filelock in /usr/local/lib/python3.8/dist-packages (from transformers>=4.19.0->whisper@ git+https://github.com/openai/whisper.git->stable-ts==1.0.1) (3.8.2)\n",
            "Requirement already satisfied: pyyaml>=5.1 in /usr/local/lib/python3.8/dist-packages (from transformers>=4.19.0->whisper@ git+https://github.com/openai/whisper.git->stable-ts==1.0.1) (6.0)\n",
            "Collecting tokenizers!=0.11.3,<0.14,>=0.11.1\n",
            "  Downloading tokenizers-0.13.2-cp38-cp38-manylinux_2_17_x86_64.manylinux2014_x86_64.whl (7.6 MB)\n",
            "\u001b[K     |████████████████████████████████| 7.6 MB 41.6 MB/s \n",
            "\u001b[?25hRequirement already satisfied: requests in /usr/local/lib/python3.8/dist-packages (from transformers>=4.19.0->whisper@ git+https://github.com/openai/whisper.git->stable-ts==1.0.1) (2.23.0)\n",
            "Collecting huggingface-hub<1.0,>=0.10.0\n",
            "  Downloading huggingface_hub-0.11.1-py3-none-any.whl (182 kB)\n",
            "\u001b[K     |████████████████████████████████| 182 kB 45.0 MB/s \n",
            "\u001b[?25hRequirement already satisfied: regex!=2019.12.17 in /usr/local/lib/python3.8/dist-packages (from transformers>=4.19.0->whisper@ git+https://github.com/openai/whisper.git->stable-ts==1.0.1) (2022.6.2)\n",
            "Requirement already satisfied: typing-extensions>=3.7.4.3 in /usr/local/lib/python3.8/dist-packages (from huggingface-hub<1.0,>=0.10.0->transformers>=4.19.0->whisper@ git+https://github.com/openai/whisper.git->stable-ts==1.0.1) (4.4.0)\n",
            "Requirement already satisfied: pyparsing!=3.0.5,>=2.0.2 in /usr/local/lib/python3.8/dist-packages (from packaging>=20.0->transformers>=4.19.0->whisper@ git+https://github.com/openai/whisper.git->stable-ts==1.0.1) (3.0.9)\n",
            "Requirement already satisfied: urllib3!=1.25.0,!=1.25.1,<1.26,>=1.21.1 in /usr/local/lib/python3.8/dist-packages (from requests->transformers>=4.19.0->whisper@ git+https://github.com/openai/whisper.git->stable-ts==1.0.1) (1.24.3)\n",
            "Requirement already satisfied: certifi>=2017.4.17 in /usr/local/lib/python3.8/dist-packages (from requests->transformers>=4.19.0->whisper@ git+https://github.com/openai/whisper.git->stable-ts==1.0.1) (2022.12.7)\n",
            "Requirement already satisfied: chardet<4,>=3.0.2 in /usr/local/lib/python3.8/dist-packages (from requests->transformers>=4.19.0->whisper@ git+https://github.com/openai/whisper.git->stable-ts==1.0.1) (3.0.4)\n",
            "Requirement already satisfied: idna<3,>=2.5 in /usr/local/lib/python3.8/dist-packages (from requests->transformers>=4.19.0->whisper@ git+https://github.com/openai/whisper.git->stable-ts==1.0.1) (2.10)\n",
            "Building wheels for collected packages: stable-ts, whisper\n",
            "  Building wheel for stable-ts (setup.py) ... \u001b[?25l\u001b[?25hdone\n",
            "  Created wheel for stable-ts: filename=stable_ts-1.0.1-py3-none-any.whl size=24828 sha256=68215db9a704fd72390a23acb835d4e4572eb2714547ff16e5b8241d8aa8a4c9\n",
            "  Stored in directory: /tmp/pip-ephem-wheel-cache-gmh166vp/wheels/dc/32/53/6df0cba857db22e5c429c0de906a0e8f6440d249c719e0f88f\n",
            "  Building wheel for whisper (setup.py) ... \u001b[?25l\u001b[?25hdone\n",
            "  Created wheel for whisper: filename=whisper-1.0-py3-none-any.whl size=1175324 sha256=55ca2c5e6485cbf4f8f1bf1a26a5dbb140d759aafd234057160301fc3d5bd50b\n",
            "  Stored in directory: /tmp/pip-ephem-wheel-cache-gmh166vp/wheels/a7/70/18/b7693c07b1d18b3dafb328f5d0496aa0d41a9c09ef332fd8e6\n",
            "Successfully built stable-ts whisper\n",
            "Installing collected packages: tokenizers, huggingface-hub, transformers, ffmpeg-python, whisper, stable-ts\n",
            "Successfully installed ffmpeg-python-0.2.0 huggingface-hub-0.11.1 stable-ts-1.0.1 tokenizers-0.13.2 transformers-4.25.1 whisper-1.0\n"
          ]
        }
      ]
    },
    {
      "cell_type": "code",
      "source": [
        "from stable_whisper import load_model\n",
        "model = load_model('large')"
      ],
      "metadata": {
        "colab": {
          "base_uri": "https://localhost:8080/"
        },
        "id": "RxOgYNE3_2Li",
        "outputId": "a778c580-9f9a-4e85-e6c3-d9dd20c904a4"
      },
      "execution_count": 26,
      "outputs": [
        {
          "output_type": "stream",
          "name": "stderr",
          "text": [
            "100%|█████████████████████████████████████| 2.87G/2.87G [00:55<00:00, 55.8MiB/s]\n"
          ]
        }
      ]
    },
    {
      "cell_type": "code",
      "source": [
        "results = model.transcribe('/content/ms-word-styles-and-outline.mp4')"
      ],
      "metadata": {
        "colab": {
          "base_uri": "https://localhost:8080/"
        },
        "id": "drZat-mT_28B",
        "outputId": "c1ffc1eb-b858-4c6d-b517-fe7eb61868fa"
      },
      "execution_count": 57,
      "outputs": [
        {
          "output_type": "stream",
          "name": "stderr",
          "text": [
            "/usr/local/lib/python3.8/dist-packages/stable_whisper/whisper_word_level.py:169: UserWarning: FP16 is not supported on CPU; using FP32 instead\n",
            "  warnings.warn(\"FP16 is not supported on CPU; using FP32 instead\")\n"
          ]
        },
        {
          "output_type": "stream",
          "name": "stdout",
          "text": [
            "Detected language: english\n"
          ]
        }
      ]
    },
    {
      "cell_type": "code",
      "source": [
        "print(results['text'])"
      ],
      "metadata": {
        "colab": {
          "base_uri": "https://localhost:8080/"
        },
        "id": "LITdD0RhC0Ds",
        "outputId": "4903b1f3-2536-4a57-bf06-fc2716f38024"
      },
      "execution_count": 58,
      "outputs": [
        {
          "output_type": "stream",
          "name": "stdout",
          "text": [
            " In this video, we'll see how to work on the styles and outline. How do we apply styles to a text? How do we create new styles and use the outlines in a proper manner? So let us see that one by one. So right now, if you see, I have created this text here. Now I'll apply on this place some styles. How do I apply? First is I'll select the text. And then I can go to this Home tab. And on the right-hand side, if you see, there are different styles available. These are styles. I can select this spacing, no spacing, heading 1. You observe what will happen at this place. Heading 3, heading 4, heading 5, and so on. So these are some styles which are applied. Now what exactly I mean to say by styles? Styles are nothing but collection of all the formattings at one place. And that has been given some name. For example, if I say bold, italic, underline, and I want some font size, some color, and some font. So if I mix everything and make it as some package, that becomes as one style. So these are already inbuilt styles. If you see here, these are already inbuilt styles from this place. So if I select any one of them, that style has been applied. So how do I create my own style itself? How do I create it? It's simple. Again, I have to go to the Home tab. Click on this dropdown. And you see there's an option as Create Style. So if I click on Create Style, it will ask me what is the name of your style. So I'll write as some name. I'll give it as Formatting Style 1. So in this place, I've given some name. But what exactly is the style inside? So I'll just click on this Modify. So if I click on this Modify, it will give me a dialog box, which will give me different types of formats. Format in the sense, this is the, you know, so that's a preview given. What is the style I want? What is the font style I want? I can select some font style like that. The size of the font I can select. Okay, I'll increase the font size here. Let's say 24. What do you want? Bold, italic, underline. So these are different styles, which are already inbuilt. These are Heading 1, Heading 2, Heading 3. These are already inbuilt heading styles. So you can copy from them also. And the thing is next one is style for following paragraph you can select any one ok. So, that is not required. Once this setting part is done what we are doing exactly we are creating a style. So, after creating a new style do you want to add the style to the style gallery. So, I will say as yes I want to add and you can just click on ok. Remember the name of the style is formatting style 1 click on ok. So this is the name of the style that is formatting style 1 you see it is been added here. If you click on this if you select this text and if you click on this that style will be applied. So, I hope you are able to understand styling means you are applying some formatting techniques on that particular text that one you can create and put into the style gallery itself. So, that is very simple and easy to understand. So this is we have seen this two topics. Let us see the third topic how we can apply outline. Now what exactly an outline means is if you want to create some course outline for some topic let us say I want to create some course outline for this based on this topic. I have three Microsoft course courses let us say I have some excel word power point these are three Microsoft courses. Every topic has I mean there are two topics for each course for excel I have two course two topics word power point there are two topics. Below that topics I have some sub topics. So, I can add some sub topics below that. So, let us see how to work on that. So, first thing is I will create three MS office course it is simple. So, I will just type here and I will take my cursor here and I will type as MS office course. Now what I will do is I will type here number 1 and press dot 1 and dot and I will press space bar the moment I press space bar you see there is a number formatting which is applied here number formatting. Now if I want to give the name of the you know software I can write as MS excel second is MS word and third is MS power point MS power point. So, that is. So, these are three different tools which are in the Microsoft office, but now below under each tool I want to give some sub topics. So, what I can do is I can just press enter kept my cursor press enter I do not want parallel, but I want a sub topic. If you want a sub topic you have to just press tab key from a keyboard press tab from a keyboard this is shifted and it becomes a sub topic. Now I can write some things which I need below MS excel I will write as formulas write as pivot table etcetera. Similarly if I want below this MS word I will just type here enter tab and I want as page setup enter and I want as print out or you can say print. Similarly for the power point I will add some more topics enter tab and you press tab as transition and I will see as animation. So, these I have created here now under MS excel I have formulas, but what type of formulas do you want I have some different formulas some minimum maximum average kind of. So, I will just keep my cursor here press enter. So, it came below that I do not want below that I will press tab key from a keyboard. So, this is how the hierarchical will be done if you only press tab key from a keyboard enter and tab that is it. So, now the formulas will be a sum minimum maximum average. So, like this you can keep on doing for the other all the topics here. So, that is what I am trying to say is if you want to create a different you know you can use this different course outline techniques that is how do we use the outline in the efficient manner. So, that is very simple and easy method rather than going to the upper paragraph itself. So, I hope you have able to understand how to work on style apply style create new style and work on the outline that is all for this video.\n"
          ]
        }
      ]
    }
  ]
}